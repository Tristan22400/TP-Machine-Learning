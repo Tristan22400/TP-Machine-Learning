{
  "cells": [
    {
      "cell_type": "markdown",
      "metadata": {
        "id": "8XGozXOxEQeo"
      },
      "source": [
        "# TP Metric learning\n",
        "\n"
      ]
    },
    {
      "cell_type": "code",
      "execution_count": 106,
      "metadata": {
        "id": "0rECkb8qEQeq"
      },
      "outputs": [],
      "source": [
        "import jax\n",
        "import jax.numpy as jnp\n",
        "import numpy as np\n",
        "import matplotlib.pyplot as plt\n",
        "from functools import partial"
      ]
    },
    {
      "cell_type": "markdown",
      "metadata": {
        "id": "IGJ59uP9EQer"
      },
      "source": [
        "For this lab, we will use the [MNIST dataset (~15Mo)](https://en.wikipedia.org/wiki/MNIST_database). It consists of 28x28 images (loaded as a 784 vector) and the associated label for training, validation and test sets. \n",
        "\n",
        "The following code loads a subset of 1000 training samples and 500 validation samples."
      ]
    },
    {
      "cell_type": "code",
      "execution_count": 107,
      "metadata": {
        "id": "g7nuKNgLEQes",
        "outputId": "7ac65c31-0223-4675-acda-093d25800805",
        "colab": {
          "base_uri": "https://localhost:8080/",
          "height": 282
        }
      },
      "outputs": [
        {
          "output_type": "stream",
          "name": "stdout",
          "text": [
            "5\n"
          ]
        },
        {
          "output_type": "display_data",
          "data": {
            "text/plain": [
              "<Figure size 432x288 with 1 Axes>"
            ],
            "image/png": "[encoded data removed]"
          },
          "metadata": {
            "needs_background": "light"
          }
        }
      ],
      "source": [
        "# Load the dataset\n",
        "data = np.load('mnist1k.npz')\n",
        "X_train = data['X_train']\n",
        "y_train = data['y_train']\n",
        "X_val = data['X_val']\n",
        "y_val = data['y_val']\n",
        "X_train_bin = data['X_train_bin']\n",
        "y_train_bin = data['y_train_bin']\n",
        "X_val_bin = data['X_val_bin']\n",
        "y_val_bin = data['y_val_bin']\n",
        "N_train = len(y_train)\n",
        "N_val = len(y_val)\n",
        "plt.imshow(X_train[0,:].reshape(28,28))\n",
        "print(y_train[0])"
      ]
    },
    {
      "cell_type": "markdown",
      "metadata": {
        "id": "oS7ycQluEQet"
      },
      "source": [
        "## Implementing a $k$Nearest-Neighbor\n",
        "\n",
        "#### Q1. Implement a class that encapsulate the squared euclidean distance ($\\| x_1 - x_2 \\|^2$) using the Distance parent class.\n"
      ]
    },
    {
      "cell_type": "code",
      "execution_count": 108,
      "metadata": {
        "id": "u19wM2qZEQeu"
      },
      "outputs": [],
      "source": [
        "class Distance():\n",
        "    '''\n",
        "    trains this distance function on a training set\n",
        "    '''\n",
        "    def fit(self, X, y):\n",
        "        pass\n",
        "    \n",
        "    '''\n",
        "    returns the distance between the sets X1 and X2:\n",
        "    X1 is n x d (n samples of dimension d)\n",
        "    X2 is m x d (n samples of dimension d)\n",
        "    output is n x m (distance matrix)\n",
        "    '''\n",
        "    def predict(self, X1, X2):\n",
        "        pass"
      ]
    },
    {
      "cell_type": "code",
      "execution_count": 109,
      "metadata": {
        "id": "3tzeSM3eEQeu"
      },
      "outputs": [],
      "source": [
        "class L2Distance(Distance):\n",
        "    def __init__(self):\n",
        "        super().__init__()\n",
        "    \n",
        "    def predict(self, X1, X2):\n",
        "        X1_norm = jnp.linalg.norm(X1, axis=1)**2\n",
        "        X2_norm = jnp.linalg.norm(X2, axis=1)**2\n",
        "        scal = jnp.dot(X1, X2.T)\n",
        "        dist = X1_norm[:,None] + X2_norm[None,:] - 2*scal\n",
        "        return dist"
      ]
    },
    {
      "cell_type": "markdown",
      "metadata": {
        "id": "q3q-Ju-eEQev"
      },
      "source": [
        "Q2. Implement a $k$NearestNeighbor class that relies on a Distance object to find the neighbors. It also trains the distance (by default, does nothing)."
      ]
    },
    {
      "cell_type": "code",
      "execution_count": 110,
      "metadata": {
        "id": "wrha_daAEQev"
      },
      "outputs": [],
      "source": [
        "class KNN():\n",
        "    def __init__(self, distance, k=1):\n",
        "        self.distance = distance\n",
        "        self.k = k\n",
        "    \n",
        "    '''\n",
        "    trains the distance and memorizes the training set\n",
        "    X: n x d (n samples of dimension d)\n",
        "    y: n (n labels)\n",
        "    '''\n",
        "    def fit(self, X, y):\n",
        "        self.X = X\n",
        "        self.y = y\n",
        "        self.distance.fit(self.X, self.y)\n",
        "    \n",
        "    '''\n",
        "    predict the set of samples\n",
        "    '''\n",
        "    def predict(self, X):\n",
        "        dist = self.distance.predict(X, self.X)\n",
        "        neighbours = jnp.argsort(dist, axis=1)\n",
        "        neighbours_labels = self.y[neighbours[:,:self.k]]\n",
        "        y_pred = np.apply_along_axis(jnp.bincount, axis=1, arr=neighbours_labels, minlength=10)\n",
        "        y_pred = jnp.argmax(y_pred, axis=1)\n",
        "        return y_pred\n",
        "      "
      ]
    },
    {
      "cell_type": "markdown",
      "metadata": {
        "id": "DtEU7K9QEQew"
      },
      "source": [
        "We first try on the reduced training set to check that our code works. "
      ]
    },
    {
      "cell_type": "code",
      "execution_count": 111,
      "metadata": {
        "id": "ZxPfdubSEQew",
        "colab": {
          "base_uri": "https://localhost:8080/"
        },
        "outputId": "915a3a0b-1f89-4119-840e-15a898e3491a"
      },
      "outputs": [
        {
          "output_type": "stream",
          "name": "stdout",
          "text": [
            "training error 0.07500000298023224\n",
            "val error 0.16200000047683716\n"
          ]
        }
      ],
      "source": [
        "knn = KNN(L2Distance(), k=3)\n",
        "knn.fit(X_train, y_train)\n",
        "y_hat = knn.predict(X_train)\n",
        "err = (y_hat != y_train).mean()\n",
        "print('training error {}'.format(err))\n",
        "y_hat = knn.predict(X_val)\n",
        "err = (y_hat != y_val).mean()\n",
        "print('val error {}'.format(err))"
      ]
    },
    {
      "cell_type": "markdown",
      "metadata": {
        "id": "Zz_L2CdcEQex"
      },
      "source": [
        "#### Q3. Implement a trainable $\\ell_2$ distance function relying. I performs a linear projection $P$ such that the distance between similar samples is minimized, trained using gradient descent\n",
        "\n",
        "$$ \\min_P \\sum_{x, x_p, y = y_p} \\|Px - Px_p\\|^2 $$"
      ]
    },
    {
      "cell_type": "code",
      "execution_count": 112,
      "metadata": {
        "id": "ody-12MdEQex"
      },
      "outputs": [],
      "source": [
        "class L2MinDistance(Distance):\n",
        "    def __init__(self, input_dim, output_dim):\n",
        "        super().__init__()\n",
        "        self.P = np.random.randn(input_dim, output_dim)/jnp.sqrt(input_dim+output_dim)\n",
        "        self.dist = L2Distance()\n",
        "    \n",
        "    @staticmethod\n",
        "    def loss(P, X, y, dist):\n",
        "        P_x = jnp.matmul(X,P)\n",
        "        D = dist(P_x, P_x)\n",
        "        T_F = (y[:,None] == y[None,:])\n",
        "        P_sum = jnp.mean(D * T_F, axis = [0,1])\n",
        "        return P_sum\n",
        "    \n",
        "    @staticmethod\n",
        "    def update(P, X, y, dist, eta=0.01):\n",
        "        l, dp = jax.value_and_grad(L2MinDistance.loss, argnums=0)(P, X, y, dist)\n",
        "        return l, P - eta*dp\n",
        "        \n",
        "    def fit(self, X, y):\n",
        "        loss = []\n",
        "        for i in range(100):\n",
        "            l, self.P = L2MinDistance.update(self.P, X, y, self.dist.predict)\n",
        "            loss.append(l)\n",
        "            #print(l)\n",
        "        plt.plot(loss)\n",
        "        return \n",
        "    \n",
        "    def predict(self, X1, X2):\n",
        "        P_x1 = jnp.matmul(X1, self.P)\n",
        "        P_x2 = jnp.matmul(X2, self.P)\n",
        "        D = self.dist.predict(P_x1, P_x2)\n",
        "        return D      "
      ]
    },
    {
      "cell_type": "code",
      "execution_count": 113,
      "metadata": {
        "id": "oNXoznkjEQey",
        "colab": {
          "base_uri": "https://localhost:8080/",
          "height": 299
        },
        "outputId": "ffe46f4b-4444-479a-f958-c5267873a361"
      },
      "outputs": [
        {
          "output_type": "stream",
          "name": "stdout",
          "text": [
            "training error 0.11600000411272049\n",
            "val error 0.30400002002716064\n"
          ]
        },
        {
          "output_type": "display_data",
          "data": {
            "text/plain": [
              "<Figure size 432x288 with 1 Axes>"
            ],
            "image/png": "[encoded data removed]"
          },
          "metadata": {
            "needs_background": "light"
          }
        }
      ],
      "source": [
        "knn = KNN(L2MinDistance(784, 64), k=3)\n",
        "knn.fit(X_train, y_train)\n",
        "y_hat = knn.predict(X_train)\n",
        "err = (y_hat != y_train).mean()\n",
        "print('training error {}'.format(err))\n",
        "y_hat = knn.predict(X_val)\n",
        "err = (y_hat != y_val).mean()\n",
        "print('val error {}'.format(err))"
      ]
    },
    {
      "cell_type": "markdown",
      "metadata": {
        "id": "BJdggz9gEQey"
      },
      "source": [
        "It is pretty good even if the algorithm tends to project every point at the same place : we could improve it."
      ]
    },
    {
      "cell_type": "markdown",
      "metadata": {
        "id": "kCmChCjZEQey"
      },
      "source": [
        "## Contrastive loss\n",
        "\n",
        "Next, we want to mitigate the tendancy of only minimizing the distance to collapse all samples to the same location\n",
        "\n",
        "#### Q3. Code a trainable distance function that minimizes the distance between related samples up to a margin and maximizes the distance between unrelated samples up to a margin\n",
        "\n",
        "$$\\min_p \\sum_{x, x_p, y = y_p} \\max(0, \\|Px - Px_p\\|^2 - \\alpha) - \\lambda \\sum_{x, x_p, y \\neq y_p} \\max(0, \\beta - \\|Px - Px_p\\|^2) $$\n",
        "\n",
        "Plot the loss value as the gradient descent progresses"
      ]
    },
    {
      "cell_type": "code",
      "execution_count": 114,
      "metadata": {
        "id": "7J9nBbc9EQez"
      },
      "outputs": [],
      "source": [
        "class L2ContrastiveDistance(Distance):\n",
        "    def __init__(self, input_dim, output_dim, alpha=0.1, beta= 0.7, lambd=0.5):\n",
        "        super().__init__()\n",
        "        self.P = np.random.randn(input_dim, output_dim)/jnp.sqrt(input_dim+output_dim)\n",
        "        self.dist = L2Distance()\n",
        "        self.alpha = alpha\n",
        "        self.beta = beta\n",
        "        self.lambd = lambd\n",
        "    \n",
        "    @staticmethod\n",
        "    def loss(P, X, y, alpha, beta, lambd, dist):\n",
        "        P_x = jnp.matmul(X,P)\n",
        "        D = dist(P_x, P_x)\n",
        "        D_a = jnp.max(D - alpha, 0)\n",
        "        D_b = jnp.max(beta - D, 0)\n",
        "        T_F = (y[:,None] == y[None,:])\n",
        "        Pa_sum = (D_a * T_F).mean()\n",
        "        Pb_sum = (D_b * T_F).mean()\n",
        "        return Pa_sum - lambd * Pb_sum\n",
        "    \n",
        "    @staticmethod\n",
        "    def update(P, X, y, alpha, beta, lambd, dist, eta=0.05):\n",
        "        l, dp = jax.value_and_grad(L2ContrastiveDistance.loss, argnums=0)(P, X, y, alpha, beta, lambd, dist)\n",
        "        return l, P - eta*dp\n",
        "        \n",
        "    def fit(self, X, y):\n",
        "        loss = []\n",
        "        for i in range(10):\n",
        "            l, self.P = L2ContrastiveDistance.update(self.P, X, y, self.alpha, self.beta, self.lambd, self.dist.predict)\n",
        "            loss.append(l)\n",
        "            #print(l)\n",
        "        plt.plot(loss)\n",
        "        return\n",
        "    \n",
        "    def predict(self, X1, X2):\n",
        "        P_x1 = jnp.matmul(X1, self.P)\n",
        "        P_x2 = jnp.matmul(X2, self.P)\n",
        "        D = self.dist.predict(P_x1, P_x2)\n",
        "        return D        \n",
        "        "
      ]
    },
    {
      "cell_type": "code",
      "execution_count": 115,
      "metadata": {
        "id": "ZVdGjvYyEQe0",
        "colab": {
          "base_uri": "https://localhost:8080/",
          "height": 299
        },
        "outputId": "943d103a-9812-4ac1-a23f-0622d99c7e9b"
      },
      "outputs": [
        {
          "output_type": "stream",
          "name": "stdout",
          "text": [
            "training error 0.14100000262260437\n",
            "val error 0.42600002884864807\n"
          ]
        },
        {
          "output_type": "display_data",
          "data": {
            "text/plain": [
              "<Figure size 432x288 with 1 Axes>"
            ],
            "image/png": "[encoded data removed]"
          },
          "metadata": {
            "needs_background": "light"
          }
        }
      ],
      "source": [
        "knn = KNN(L2ContrastiveDistance(784, 64), k=3)\n",
        "knn.fit(X_train, y_train)\n",
        "y_hat = knn.predict(X_train)\n",
        "err = (y_hat != y_train).mean()\n",
        "print('training error {}'.format(err))\n",
        "y_hat = knn.predict(X_val)\n",
        "err = (y_hat != y_val).mean()\n",
        "print('val error {}'.format(err))"
      ]
    },
    {
      "cell_type": "markdown",
      "metadata": {
        "id": "WhajACIJEQe0"
      },
      "source": [
        "The result is acceptable, however we observe that we have to train very few time, otherwise it overfits really quickly.\n",
        "With 1000 iterations, the result is really bad.\n"
      ]
    },
    {
      "cell_type": "markdown",
      "metadata": {
        "id": "6l4b3njgEQe0"
      },
      "source": [
        "## Triplet loss\n",
        "\n",
        "Since $k$NN is in nature using a ranking approach by sorting the samples, we will know consider a loss function that enforces the order of the samples rather than their absolute distance values.\n",
        "\n",
        "$$ \\min_P \\sum_{x, x_p, x_n, y = y_p, y \\neq y_n} \\max(0, \\alpha + \\|x - x_p\\|^2 - \\|x - x_n\\|^2) $$\n",
        "\n",
        "#### Q4. Code the triplet loss based trainable distance function."
      ]
    },
    {
      "cell_type": "code",
      "execution_count": 116,
      "metadata": {
        "id": "8LMWvCKmEQe1"
      },
      "outputs": [],
      "source": [
        "class L2TripletDistance(Distance):\n",
        "    def __init__(self, input_dim, output_dim, alpha=0.3):\n",
        "        super().__init__()\n",
        "        self.P = np.random.randn(input_dim, output_dim)/jnp.sqrt(input_dim+output_dim)\n",
        "        self.dist = L2Distance()\n",
        "        self.alpha = alpha\n",
        "    \n",
        "    @staticmethod\n",
        "    def loss(P, X, y, alpha, dist):\n",
        "        P_X = jnp.matmul(X, P)\n",
        "        D1 = dist(P_X, P_X)\n",
        "        D = (D1[:,:,None] - D1[:,None,:] + alpha)\n",
        "        D = jnp.max(D,0)\n",
        "        T_ = (y[:,None] == y[None,:])\n",
        "        F_ = (y[:,None] != y[None,:])\n",
        "        Sum = (D * T_[:,:,None] * F_[:,None,:]).mean()\n",
        "        return Sum\n",
        "    \n",
        "    @staticmethod\n",
        "    def update(P, X, y, alpha, dist, eta=0.05):\n",
        "        l, dp = jax.value_and_grad(L2TripletDistance.loss, argnums=0)(P, X, y, alpha, dist)\n",
        "        return l, P - eta*dp\n",
        "        \n",
        "    def fit(self, X, y):\n",
        "        loss = []\n",
        "        for i in range(100):\n",
        "            l, self.P = L2TripletDistance.update(self.P, X, y, self.alpha, self.dist.predict)\n",
        "            loss.append(l)\n",
        "            #print(l)\n",
        "        plt.plot(loss)\n",
        "        return\n",
        "    \n",
        "    def predict(self, X1, X2):\n",
        "        P_x1 = jnp.matmul(X1, self.P)\n",
        "        P_x2 = jnp.matmul(X2, self.P)\n",
        "        D = self.dist.predict(P_x1, P_x2)\n",
        "        return D"
      ]
    },
    {
      "cell_type": "code",
      "execution_count": 117,
      "metadata": {
        "id": "754k054CEQe1",
        "colab": {
          "base_uri": "https://localhost:8080/",
          "height": 299
        },
        "outputId": "42601c82-1e31-4980-b14e-fee1e3155cd9"
      },
      "outputs": [
        {
          "output_type": "stream",
          "name": "stdout",
          "text": [
            "training error 0.5300000309944153\n",
            "val error 0.7460000514984131\n"
          ]
        },
        {
          "output_type": "display_data",
          "data": {
            "text/plain": [
              "<Figure size 432x288 with 1 Axes>"
            ],
            "image/png": "[encoded data removed]"
          },
          "metadata": {
            "needs_background": "light"
          }
        }
      ],
      "source": [
        "knn = KNN(L2TripletDistance(784, 64), k=3)\n",
        "knn.fit(X_train[:500], y_train[:500])\n",
        "y_hat = knn.predict(X_train[:500])\n",
        "err = (y_hat != y_train[:500]).mean()\n",
        "print('training error {}'.format(err))\n",
        "y_hat = knn.predict(X_val)\n",
        "err = (y_hat != y_val).mean()\n",
        "print('val error {}'.format(err))"
      ]
    },
    {
      "cell_type": "markdown",
      "metadata": {
        "id": "Clh-c0LMEQe2"
      },
      "source": [
        "I trained the model only on the first 500 items, otherwise I had a problem of memory.\n",
        "With 500, the result is pretty good and better than it used to be with the other distances."
      ]
    },
    {
      "cell_type": "markdown",
      "metadata": {
        "id": "bzOcR5ZPEQe2"
      },
      "source": [
        "#### Q5. Perform a cross validation on the margin, the number of dimensions and the number of neighbors."
      ]
    },
    {
      "cell_type": "code",
      "execution_count": 118,
      "metadata": {
        "id": "BT_T4eEgEQe2"
      },
      "outputs": [],
      "source": [
        "def randomSplit(key, X, y, train_part=0.8):\n",
        "    n = X.shape[0]\n",
        "    n_train = int(train_part*n); n_test = n - n_train\n",
        "    p = jax.random.permutation(key, n)\n",
        "    X_train = X[p[0:n_train], :]\n",
        "    y_train = y[p[0:n_train]]\n",
        "    X_val = X[p[n_train:],:] \n",
        "    y_val = y[p[n_train:]]\n",
        "    return X_train, y_train, X_val, y_val"
      ]
    },
    {
      "cell_type": "code",
      "source": [
        "key = jax.random.PRNGKey(32)\n",
        "l = []\n",
        "for k in range(1, 21, 5):\n",
        "    print(k)\n",
        "    lk = []\n",
        "    for s in range(10):\n",
        "        key, skey = jax.random.split(key)\n",
        "        X_train, y_train, X_val, y_val = randomSplit(skey, np.concatenate((X_train, X_val)), np.concatenate((y_train, y_val)))\n",
        "        knn = KNN(L2ContrastiveDistance(784, 64), k=3)\n",
        "        knn.fit(X_train[:500], y_train[:500])\n",
        "        y_hat = knn.predict(X_val)\n",
        "        lk.append((y_hat != y_val).mean())\n",
        "    l.append(lk)\n",
        "l = jnp.asarray(l)\n",
        "plt.errorbar(range(1,21,5), l.mean(axis=1), l.std(axis=1), fmt='-k')"
      ],
      "metadata": {
        "id": "t_csQNGwnOV4",
        "colab": {
          "base_uri": "https://localhost:8080/",
          "height": 350
        },
        "outputId": "a4fcf050-afcb-4d20-8d6e-8313a5f13d7c"
      },
      "execution_count": 119,
      "outputs": [
        {
          "output_type": "stream",
          "name": "stdout",
          "text": [
            "1\n",
            "6\n",
            "11\n",
            "16\n"
          ]
        },
        {
          "output_type": "execute_result",
          "data": {
            "text/plain": [
              "<ErrorbarContainer object of 3 artists>"
            ]
          },
          "metadata": {},
          "execution_count": 119
        },
        {
          "output_type": "display_data",
          "data": {
            "text/plain": [
              "<Figure size 432x288 with 1 Axes>"
            ],
            "image/png": "[encoded data removed]"
          },
          "metadata": {
            "needs_background": "light"
          }
        }
      ]
    },
    {
      "cell_type": "markdown",
      "metadata": {
        "id": "N9SSclaiEQe3"
      },
      "source": [
        ""
      ]
    },
    {
      "cell_type": "markdown",
      "metadata": {
        "id": "SOK2Hb5rEQe3"
      },
      "source": [
        "## visualization\n",
        "\n",
        "In order to visualize what is happening during the metric learning, we can interpret the projections of $P$ as images.\n",
        "\n",
        "#### Q6. Extract the projection from a trained distance and plot each projector associated with each output space component as an image."
      ]
    },
    {
      "cell_type": "code",
      "execution_count": 120,
      "metadata": {
        "id": "FPjjMVa1EQe3",
        "colab": {
          "base_uri": "https://localhost:8080/",
          "height": 181
        },
        "outputId": "53d54971-1f8d-48ea-95ff-42dc8117cf7f"
      },
      "outputs": [
        {
          "output_type": "error",
          "ename": "NameError",
          "evalue": "ignored",
          "traceback": [
            "\u001b[0;31m---------------------------------------------------------------------------\u001b[0m",
            "\u001b[0;31mNameError\u001b[0m                                 Traceback (most recent call last)",
            "\u001b[0;32m<ipython-input-120-9337b17fc6c7>\u001b[0m in \u001b[0;36m<module>\u001b[0;34m()\u001b[0m\n\u001b[0;32m----> 1\u001b[0;31m \u001b[0;32mfor\u001b[0m \u001b[0mi\u001b[0m \u001b[0;32min\u001b[0m \u001b[0mrange\u001b[0m \u001b[0;34m(\u001b[0m\u001b[0mlen\u001b[0m\u001b[0;34m(\u001b[0m\u001b[0mP\u001b[0m\u001b[0;34m)\u001b[0m\u001b[0;34m)\u001b[0m\u001b[0;34m:\u001b[0m\u001b[0;34m\u001b[0m\u001b[0;34m\u001b[0m\u001b[0m\n\u001b[0m\u001b[1;32m      2\u001b[0m     \u001b[0mplt\u001b[0m\u001b[0;34m.\u001b[0m\u001b[0mimshow\u001b[0m\u001b[0;34m(\u001b[0m\u001b[0mP\u001b[0m\u001b[0;34m[\u001b[0m\u001b[0;34m:\u001b[0m\u001b[0;34m,\u001b[0m\u001b[0mi\u001b[0m\u001b[0;34m]\u001b[0m\u001b[0;34m.\u001b[0m\u001b[0mreshape\u001b[0m\u001b[0;34m(\u001b[0m\u001b[0;36m28\u001b[0m\u001b[0;34m,\u001b[0m\u001b[0;36m28\u001b[0m\u001b[0;34m)\u001b[0m\u001b[0;34m)\u001b[0m\u001b[0;34m\u001b[0m\u001b[0;34m\u001b[0m\u001b[0m\n",
            "\u001b[0;31mNameError\u001b[0m: name 'P' is not defined"
          ]
        }
      ],
      "source": [
        "P = \n",
        "for i in range (len(P)):\n",
        "    plt.imshow(P[:,i].reshape(28,28))\n"
      ]
    },
    {
      "cell_type": "markdown",
      "metadata": {
        "id": "I70sZfZZEQe3"
      },
      "source": [
        "*Analyze your results in this box*"
      ]
    }
  ],
  "metadata": {
    "kernelspec": {
      "display_name": "Python 3",
      "language": "python",
      "name": "python3"
    },
    "language_info": {
      "codemirror_mode": {
        "name": "ipython",
        "version": 3
      },
      "file_extension": ".py",
      "mimetype": "text/x-python",
      "name": "python",
      "nbconvert_exporter": "python",
      "pygments_lexer": "ipython3",
      "version": "3.7.5"
    },
    "latex_envs": {
      "LaTeX_envs_menu_present": true,
      "autoclose": false,
      "autocomplete": false,
      "bibliofile": "biblio.bib",
      "cite_by": "apalike",
      "current_citInitial": 1,
      "eqLabelWithNumbers": true,
      "eqNumInitial": 1,
      "hotkeys": {
        "equation": "Ctrl-E",
        "itemize": "Ctrl-I"
      },
      "labels_anchors": false,
      "latex_user_defs": false,
      "report_style_numbering": false,
      "user_envs_cfg": false
    },
    "colab": {
      "name": "TP_metric_learning.ipynb",
      "provenance": [],
      "collapsed_sections": []
    },
    "accelerator": "GPU"
  },
  "nbformat": 4,
  "nbformat_minor": 0
}